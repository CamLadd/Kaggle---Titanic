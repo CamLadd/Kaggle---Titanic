{
  "nbformat": 4,
  "nbformat_minor": 0,
  "metadata": {
    "interpreter": {
      "hash": "02a9839076075b91ad0ca4473d7f7ceb754ea3983ec7c01053cc622904b7a0ac"
    },
    "kernelspec": {
      "display_name": "Python 3.8.5 64-bit ('learn-env': conda)",
      "name": "python3"
    },
    "language_info": {
      "name": "python",
      "version": ""
    },
    "orig_nbformat": 4,
    "colab": {
      "name": "titanic.ipynb",
      "provenance": [],
      "collapsed_sections": []
    }
  },
  "cells": [
    {
      "cell_type": "markdown",
      "metadata": {
        "id": "ADTEODV3qauv"
      },
      "source": [
        "# Import Data and Libraries"
      ]
    },
    {
      "cell_type": "code",
      "metadata": {
        "colab": {
          "resources": {
            "http://localhost:8080/nbextensions/google.colab/files.js": {
              "data": "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",
              "ok": true,
              "headers": [
                [
                  "content-type",
                  "application/javascript"
                ]
              ],
              "status": 200,
              "status_text": ""
            }
          },
          "base_uri": "https://localhost:8080/",
          "height": 128
        },
        "id": "r7O6h8dfqcAL",
        "outputId": "dd429765-32bd-4c7f-d23b-4227baf4136e"
      },
      "source": [
        "from google.colab import files\n",
        "\n",
        "train = files.upload()\n",
        "test = files.upload()"
      ],
      "execution_count": null,
      "outputs": [
        {
          "output_type": "display_data",
          "data": {
            "text/html": [
              "\n",
              "     <input type=\"file\" id=\"files-b5144f1b-bafc-4947-9ea9-f97d2433f73a\" name=\"files[]\" multiple disabled\n",
              "        style=\"border:none\" />\n",
              "     <output id=\"result-b5144f1b-bafc-4947-9ea9-f97d2433f73a\">\n",
              "      Upload widget is only available when the cell has been executed in the\n",
              "      current browser session. Please rerun this cell to enable.\n",
              "      </output>\n",
              "      <script src=\"/nbextensions/google.colab/files.js\"></script> "
            ],
            "text/plain": [
              "<IPython.core.display.HTML object>"
            ]
          },
          "metadata": {
            "tags": []
          }
        },
        {
          "output_type": "stream",
          "text": [
            "Saving train.csv to train.csv\n"
          ],
          "name": "stdout"
        },
        {
          "output_type": "display_data",
          "data": {
            "text/html": [
              "\n",
              "     <input type=\"file\" id=\"files-06a416b0-460c-4872-8333-4db3eb42349b\" name=\"files[]\" multiple disabled\n",
              "        style=\"border:none\" />\n",
              "     <output id=\"result-06a416b0-460c-4872-8333-4db3eb42349b\">\n",
              "      Upload widget is only available when the cell has been executed in the\n",
              "      current browser session. Please rerun this cell to enable.\n",
              "      </output>\n",
              "      <script src=\"/nbextensions/google.colab/files.js\"></script> "
            ],
            "text/plain": [
              "<IPython.core.display.HTML object>"
            ]
          },
          "metadata": {
            "tags": []
          }
        },
        {
          "output_type": "stream",
          "text": [
            "Saving test.csv to test.csv\n"
          ],
          "name": "stdout"
        }
      ]
    },
    {
      "cell_type": "code",
      "metadata": {
        "colab": {
          "base_uri": "https://localhost:8080/",
          "height": 203
        },
        "id": "mkkpAlghqnai",
        "outputId": "b46cda2c-96c4-4c89-808c-bb65c35a7eef"
      },
      "source": [
        "## Import libraries and packages\n",
        "\n",
        "### Data Manipulation\n",
        "import pandas as pd\n",
        "import numpy as np\n",
        "\n",
        "### Plotting\n",
        "import matplotlib.pyplot as plt\n",
        "plt.style.use('dark_background')\n",
        "import plotly.express as px\n",
        "import seaborn as sns\n",
        "\n",
        "### Modeling\n",
        "import sklearn as sk\n",
        "import tensorflow as tf\n",
        "\n",
        "## Import data and list out columns\n",
        "train = pd.read_csv('train.csv')\n",
        "train.head()"
      ],
      "execution_count": null,
      "outputs": [
        {
          "output_type": "execute_result",
          "data": {
            "text/html": [
              "<div>\n",
              "<style scoped>\n",
              "    .dataframe tbody tr th:only-of-type {\n",
              "        vertical-align: middle;\n",
              "    }\n",
              "\n",
              "    .dataframe tbody tr th {\n",
              "        vertical-align: top;\n",
              "    }\n",
              "\n",
              "    .dataframe thead th {\n",
              "        text-align: right;\n",
              "    }\n",
              "</style>\n",
              "<table border=\"1\" class=\"dataframe\">\n",
              "  <thead>\n",
              "    <tr style=\"text-align: right;\">\n",
              "      <th></th>\n",
              "      <th>PassengerId</th>\n",
              "      <th>Survived</th>\n",
              "      <th>Pclass</th>\n",
              "      <th>Name</th>\n",
              "      <th>Sex</th>\n",
              "      <th>Age</th>\n",
              "      <th>SibSp</th>\n",
              "      <th>Parch</th>\n",
              "      <th>Ticket</th>\n",
              "      <th>Fare</th>\n",
              "      <th>Cabin</th>\n",
              "      <th>Embarked</th>\n",
              "    </tr>\n",
              "  </thead>\n",
              "  <tbody>\n",
              "    <tr>\n",
              "      <th>0</th>\n",
              "      <td>1</td>\n",
              "      <td>0</td>\n",
              "      <td>3</td>\n",
              "      <td>Braund, Mr. Owen Harris</td>\n",
              "      <td>male</td>\n",
              "      <td>22.0</td>\n",
              "      <td>1</td>\n",
              "      <td>0</td>\n",
              "      <td>A/5 21171</td>\n",
              "      <td>7.2500</td>\n",
              "      <td>NaN</td>\n",
              "      <td>S</td>\n",
              "    </tr>\n",
              "    <tr>\n",
              "      <th>1</th>\n",
              "      <td>2</td>\n",
              "      <td>1</td>\n",
              "      <td>1</td>\n",
              "      <td>Cumings, Mrs. John Bradley (Florence Briggs Th...</td>\n",
              "      <td>female</td>\n",
              "      <td>38.0</td>\n",
              "      <td>1</td>\n",
              "      <td>0</td>\n",
              "      <td>PC 17599</td>\n",
              "      <td>71.2833</td>\n",
              "      <td>C85</td>\n",
              "      <td>C</td>\n",
              "    </tr>\n",
              "    <tr>\n",
              "      <th>2</th>\n",
              "      <td>3</td>\n",
              "      <td>1</td>\n",
              "      <td>3</td>\n",
              "      <td>Heikkinen, Miss. Laina</td>\n",
              "      <td>female</td>\n",
              "      <td>26.0</td>\n",
              "      <td>0</td>\n",
              "      <td>0</td>\n",
              "      <td>STON/O2. 3101282</td>\n",
              "      <td>7.9250</td>\n",
              "      <td>NaN</td>\n",
              "      <td>S</td>\n",
              "    </tr>\n",
              "    <tr>\n",
              "      <th>3</th>\n",
              "      <td>4</td>\n",
              "      <td>1</td>\n",
              "      <td>1</td>\n",
              "      <td>Futrelle, Mrs. Jacques Heath (Lily May Peel)</td>\n",
              "      <td>female</td>\n",
              "      <td>35.0</td>\n",
              "      <td>1</td>\n",
              "      <td>0</td>\n",
              "      <td>113803</td>\n",
              "      <td>53.1000</td>\n",
              "      <td>C123</td>\n",
              "      <td>S</td>\n",
              "    </tr>\n",
              "    <tr>\n",
              "      <th>4</th>\n",
              "      <td>5</td>\n",
              "      <td>0</td>\n",
              "      <td>3</td>\n",
              "      <td>Allen, Mr. William Henry</td>\n",
              "      <td>male</td>\n",
              "      <td>35.0</td>\n",
              "      <td>0</td>\n",
              "      <td>0</td>\n",
              "      <td>373450</td>\n",
              "      <td>8.0500</td>\n",
              "      <td>NaN</td>\n",
              "      <td>S</td>\n",
              "    </tr>\n",
              "  </tbody>\n",
              "</table>\n",
              "</div>"
            ],
            "text/plain": [
              "   PassengerId  Survived  Pclass  ...     Fare Cabin  Embarked\n",
              "0            1         0       3  ...   7.2500   NaN         S\n",
              "1            2         1       1  ...  71.2833   C85         C\n",
              "2            3         1       3  ...   7.9250   NaN         S\n",
              "3            4         1       1  ...  53.1000  C123         S\n",
              "4            5         0       3  ...   8.0500   NaN         S\n",
              "\n",
              "[5 rows x 12 columns]"
            ]
          },
          "metadata": {
            "tags": []
          },
          "execution_count": 2
        }
      ]
    },
    {
      "cell_type": "code",
      "metadata": {
        "id": "R4CSRn5V7Kok"
      },
      "source": [
        "import tensorflow as tf\n",
        "from tensorflow import keras\n",
        "from tensorflow.keras import layers"
      ],
      "execution_count": null,
      "outputs": []
    },
    {
      "cell_type": "markdown",
      "metadata": {
        "id": "ftq9YjVlybwK"
      },
      "source": [
        "# Data Cleansing"
      ]
    },
    {
      "cell_type": "code",
      "metadata": {
        "colab": {
          "base_uri": "https://localhost:8080/"
        },
        "id": "Xu054aFQtIs2",
        "outputId": "a8a71969-2789-46d6-f081-deb0d6bced53"
      },
      "source": [
        "## Check missing values\n",
        "train.isna().sum(), train.info()"
      ],
      "execution_count": null,
      "outputs": [
        {
          "output_type": "stream",
          "text": [
            "<class 'pandas.core.frame.DataFrame'>\n",
            "RangeIndex: 891 entries, 0 to 890\n",
            "Data columns (total 12 columns):\n",
            " #   Column       Non-Null Count  Dtype  \n",
            "---  ------       --------------  -----  \n",
            " 0   PassengerId  891 non-null    int64  \n",
            " 1   Survived     891 non-null    int64  \n",
            " 2   Pclass       891 non-null    int64  \n",
            " 3   Name         891 non-null    object \n",
            " 4   Sex          891 non-null    object \n",
            " 5   Age          714 non-null    float64\n",
            " 6   SibSp        891 non-null    int64  \n",
            " 7   Parch        891 non-null    int64  \n",
            " 8   Ticket       891 non-null    object \n",
            " 9   Fare         891 non-null    float64\n",
            " 10  Cabin        204 non-null    object \n",
            " 11  Embarked     889 non-null    object \n",
            "dtypes: float64(2), int64(5), object(5)\n",
            "memory usage: 83.7+ KB\n"
          ],
          "name": "stdout"
        },
        {
          "output_type": "execute_result",
          "data": {
            "text/plain": [
              "(PassengerId      0\n",
              " Survived         0\n",
              " Pclass           0\n",
              " Name             0\n",
              " Sex              0\n",
              " Age            177\n",
              " SibSp            0\n",
              " Parch            0\n",
              " Ticket           0\n",
              " Fare             0\n",
              " Cabin          687\n",
              " Embarked         2\n",
              " dtype: int64, None)"
            ]
          },
          "metadata": {
            "tags": []
          },
          "execution_count": 4
        }
      ]
    },
    {
      "cell_type": "code",
      "metadata": {
        "id": "YPF7qpP_vjlO"
      },
      "source": [
        "## Let's make the passenger IDs the index of the data\n",
        "train.index = train['PassengerId']\n",
        "\n",
        "## Drop the Cabin column because there are so many missing values\n",
        "train = train.drop(columns=['Cabin'])"
      ],
      "execution_count": null,
      "outputs": []
    },
    {
      "cell_type": "code",
      "metadata": {
        "id": "7QB94WAtUQSF"
      },
      "source": [
        "## Impute missing age values with the median\n",
        "train['Age'].fillna(train['Age'].median(), inplace=True)\n",
        "\n",
        "## Impute missing embarked values with the mode\n",
        "train['Embarked'].fillna(train['Embarked'].mode()[0], inplace=True)"
      ],
      "execution_count": null,
      "outputs": []
    },
    {
      "cell_type": "markdown",
      "metadata": {
        "id": "4ZBsTUACV0ce"
      },
      "source": [
        "# Data Exploration"
      ]
    },
    {
      "cell_type": "code",
      "metadata": {
        "colab": {
          "base_uri": "https://localhost:8080/",
          "height": 585
        },
        "id": "FKXAVyjmxQFu",
        "outputId": "7fc270ce-cca6-49c1-ffd8-0bebe581b7e3"
      },
      "source": [
        "fig, ax = plt.subplots(figsize=(12, 8))\n",
        "ax.violinplot(train['Age'])\n",
        "plt.title('Age Distribution')\n",
        "plt.ylabel('Age')\n",
        "plt.tight_layout()"
      ],
      "execution_count": null,
      "outputs": [
        {
          "output_type": "display_data",
          "data": {
            "image/png": "[encoded data removed]",
            "text/plain": [
              "<Figure size 864x576 with 1 Axes>"
            ]
          },
          "metadata": {
            "tags": []
          }
        }
      ]
    },
    {
      "cell_type": "markdown",
      "metadata": {
        "id": "CXxGVfVvWC7K"
      },
      "source": [
        "The majority of passengers were between their 20s and 30s, mostly centered around the late 20s. Let's check if age seemed to have anything to do with survival rate. Also, let's check the class distribution of the passengers."
      ]
    },
    {
      "cell_type": "code",
      "metadata": {
        "colab": {
          "base_uri": "https://localhost:8080/",
          "height": 585
        },
        "id": "9ZFDw00OWLc6",
        "outputId": "4505bd66-32d1-497a-ee43-6129cdbd34c8"
      },
      "source": [
        "## Bin the ages\n",
        "train['binned_age'] = pd.qcut(train['Age'], q=6)\n",
        "\n",
        "## Plot the survival rate of each bin\n",
        "fig, ax = plt.subplots(2, figsize=(12, 8))\n",
        "sns.barplot(x='binned_age', y='Survived', ax=ax[0], data=train)\n",
        "ax[0].set_title('Suvival Rates by Age Range')\n",
        "ax[0].set_xlabel('Age')\n",
        "sns.histplot(data=train, x='Pclass', ax=ax[1])\n",
        "ax[1].set_title('Class Distribution')\n",
        "ax[1].set_xlabel('Class Assignment')\n",
        "\n",
        "plt.tight_layout()\n",
        "plt.show()"
      ],
      "execution_count": null,
      "outputs": [
        {
          "output_type": "display_data",
          "data": {
            "image/png": "[encoded data removed]",
            "text/plain": [
              "<Figure size 864x576 with 2 Axes>"
            ]
          },
          "metadata": {
            "tags": []
          }
        }
      ]
    },
    {
      "cell_type": "markdown",
      "metadata": {
        "id": "v8SIHVnkZMGd"
      },
      "source": [
        "Class distribution shows that the large majority of passengers were in 3rd class, the lowest class. The amount of people in 2nd class or 1st class were very similar.\n",
        "\n",
        "The two age groups with the highest survival rates were:\n",
        "\n",
        "    1. 0.5-19.0 years\n",
        "    2. 31.0-40.5 years\n",
        "\n",
        "The two age groups with the lowest survival rates were:\n",
        "\n",
        "    1. 19.0-25.0\n",
        "    2. 25.0-28.0\n",
        "\n",
        "This potentially reflects the idea that people in the primes of their life were not considered as heavily for evacuation prioritization in comparison to those that were younger, or nearing middle age.\n",
        "\n",
        "This may warrant looking further into the class distribution per age group. Perhaps younger and middle aged people belonged on average to higher classes, resulting in a higher survival rate!"
      ]
    },
    {
      "cell_type": "code",
      "metadata": {
        "colab": {
          "base_uri": "https://localhost:8080/",
          "height": 498
        },
        "id": "rWkFcDHdZ67e",
        "outputId": "8d07afa7-e32f-4c27-9c4a-bdd0a841d431"
      },
      "source": [
        "## Plot the average class assignment of each bin\n",
        "fig, ax = plt.subplots(figsize=(12, 8))\n",
        "sns.barplot(x='binned_age', y='Pclass', ax=ax, data=train)\n",
        "plt.show()"
      ],
      "execution_count": null,
      "outputs": [
        {
          "output_type": "display_data",
          "data": {
            "image/png": "[encoded data removed]",
            "text/plain": [
              "<Figure size 864x576 with 1 Axes>"
            ]
          },
          "metadata": {
            "tags": []
          }
        }
      ]
    },
    {
      "cell_type": "markdown",
      "metadata": {
        "id": "aOr-67SyePOH"
      },
      "source": [
        "As the ages increase, it seems like there is a higher chance for the passenger to be placed in a higher class. The 31.0-40.5 years range had one of the highest survival rates, and also represents the group of passengers with the highest concentration in higher classes amongst its own bin. The youngest age range shoows no real tendency towards higher classes, so maybe they had one of the highest survival rates because saving women and children was a priority.\n",
        "\n",
        "Let's look at gender."
      ]
    },
    {
      "cell_type": "code",
      "metadata": {
        "id": "2e8Cz0Ste1aG"
      },
      "source": [
        "train['Sex'].replace({'male':0, 'female':1}, inplace=True)"
      ],
      "execution_count": null,
      "outputs": []
    },
    {
      "cell_type": "code",
      "metadata": {
        "colab": {
          "base_uri": "https://localhost:8080/",
          "height": 585
        },
        "id": "mwpm6JtLfD97",
        "outputId": "18371170-4f19-4292-fb7c-472c5bd6d516"
      },
      "source": [
        "fig, ax = plt.subplots(figsize=(12, 8))\n",
        "g = sns.barplot(x='Sex', y='Survived', data=train, ax=ax)\n",
        "ax.set_title('Survival by Sex')\n",
        "\n",
        "for p in g.patches:\n",
        "    g.annotate(format(p.get_height(), '.1f'), \n",
        "                   (p.get_x() + p.get_width() / 2., p.get_height()), \n",
        "                   ha = 'center', va = 'center', \n",
        "                   xytext = (0, 9), \n",
        "                   textcoords = 'offset points')\n",
        "plt.tight_layout()\n",
        "plt.show()"
      ],
      "execution_count": null,
      "outputs": [
        {
          "output_type": "display_data",
          "data": {
            "image/png": "[encoded data removed]",
            "text/plain": [
              "<Figure size 864x576 with 1 Axes>"
            ]
          },
          "metadata": {
            "tags": []
          }
        }
      ]
    },
    {
      "cell_type": "markdown",
      "metadata": {
        "id": "z0F_czyyflbg"
      },
      "source": [
        "If you were a man, your odds of survival were much lower than that of a woman:\n",
        "\n",
        "    Man: Roughly 20% chance of survival\n",
        "    Woman: Roughly 70% chance of survival"
      ]
    },
    {
      "cell_type": "markdown",
      "metadata": {
        "id": "Prr0Th6LkcLG"
      },
      "source": [
        "Now let's look at if having accompanies affected survival rate. The data recorded people who had from 0-5 accompanies with them, and 8 accompanies. "
      ]
    },
    {
      "cell_type": "code",
      "metadata": {
        "colab": {
          "base_uri": "https://localhost:8080/",
          "height": 585
        },
        "id": "ytItMeK9h20R",
        "outputId": "da786db6-1356-4498-f78a-714cc3e58229"
      },
      "source": [
        "fig, ax = plt.subplots(figsize=(12, 8))\n",
        "sns.barplot(x='SibSp', y='Survived', data=train)\n",
        "ax.set_title('# of Accompanies vs Survival Rate')\n",
        "ax.set_xlabel('# of Accompanies')\n",
        "plt.tight_layout()\n",
        "plt.show()"
      ],
      "execution_count": null,
      "outputs": [
        {
          "output_type": "display_data",
          "data": {
            "image/png": "[encoded data removed]",
            "text/plain": [
              "<Figure size 864x576 with 1 Axes>"
            ]
          },
          "metadata": {
            "tags": []
          }
        }
      ]
    },
    {
      "cell_type": "markdown",
      "metadata": {
        "id": "f05-ycmDkuz7"
      },
      "source": [
        "It seems as if having 1-2 family members/accompanying people resulted in someone having a greater chance of survival. Let's bin the number of family members like this:\n",
        "\n",
        "    1. 0 family members\n",
        "    2. 1 family member\n",
        "    3. 2 family members\n",
        "    4. 3 or more family members"
      ]
    },
    {
      "cell_type": "code",
      "metadata": {
        "colab": {
          "base_uri": "https://localhost:8080/",
          "height": 585
        },
        "id": "aYLI4kOTkuVl",
        "outputId": "c01a57e2-4039-466b-dc36-ffb7206c803e"
      },
      "source": [
        "train['SibSp'].replace({4:3, 5:3, 8:3}, inplace=True)\n",
        "fig, ax = plt.subplots(figsize=(12, 8))\n",
        "sns.barplot(x='SibSp', y='Survived', data=train)\n",
        "ax.set_title('# of Accompanying Members vs Survival Rate')\n",
        "ax.set_xlabel('Number of Accompanies')\n",
        "plt.tight_layout()\n",
        "plt.show()"
      ],
      "execution_count": null,
      "outputs": [
        {
          "output_type": "display_data",
          "data": {
            "image/png": "[encoded data removed]",
            "text/plain": [
              "<Figure size 864x576 with 1 Axes>"
            ]
          },
          "metadata": {
            "tags": []
          }
        }
      ]
    },
    {
      "cell_type": "markdown",
      "metadata": {
        "id": "U-Y33yCjmiLV"
      },
      "source": [
        "Hopefully organizing the SibSp column like above increases its predictive power for our model."
      ]
    },
    {
      "cell_type": "markdown",
      "metadata": {
        "id": "NmpNvITnnMDZ"
      },
      "source": [
        "Now let's bin fare prices and compare them to survival rates to see if they have decent predictive power. First, we have to deal with the crazy outlier in the fare data."
      ]
    },
    {
      "cell_type": "code",
      "metadata": {
        "id": "axLyld2-pZld"
      },
      "source": [
        "from scipy import stats\n",
        "## Copy dataframe\n",
        "out = train.copy()\n",
        "## Calculate z-scores and place in dataframe column\n",
        "out['z'] = np.abs(stats.zscore(train['Fare']))\n",
        "out = out['z']\n",
        "## Drop the index values that contain z-scores greater than 3\n",
        "train.drop(out[out>3].index.values, axis=0, inplace=True)"
      ],
      "execution_count": null,
      "outputs": []
    },
    {
      "cell_type": "code",
      "metadata": {
        "colab": {
          "base_uri": "https://localhost:8080/",
          "height": 585
        },
        "id": "vCdvhlNczdKi",
        "outputId": "011e2a4a-5160-453c-a099-78d3d272f71b"
      },
      "source": [
        "## Evenly split the data\n",
        "train['binned_fare'] = pd.qcut(x=train['Fare'], q=6)\n",
        "## Plot\n",
        "fig, ax = plt.subplots(figsize=(12, 8))\n",
        "sns.barplot(x=train['binned_fare'], y='Survived', ax=ax, data=train)\n",
        "ax.set_title('Fare Price vs Survival Chance')\n",
        "plt.tight_layout()\n",
        "plt.show()"
      ],
      "execution_count": null,
      "outputs": [
        {
          "output_type": "display_data",
          "data": {
            "image/png": "[encoded data removed]",
            "text/plain": [
              "<Figure size 864x576 with 1 Axes>"
            ]
          },
          "metadata": {
            "tags": []
          }
        }
      ]
    },
    {
      "cell_type": "markdown",
      "metadata": {
        "id": "k9SUkiAisIk0"
      },
      "source": [
        "It seems as if the more money someone payed for a ticket onto the ship, the higher chance of their survival, and by very significant amounts. This must mean that higher class assignment results in higher survival rate, as mentioned before. Let's confirm this."
      ]
    },
    {
      "cell_type": "code",
      "metadata": {
        "colab": {
          "base_uri": "https://localhost:8080/",
          "height": 585
        },
        "id": "JIAUUwwh48xQ",
        "outputId": "052e14bc-eb4a-4d22-fbea-08a844225587"
      },
      "source": [
        "fig, ax = plt.subplots(figsize=(12, 8))\n",
        "ax.bar(x = ['1st Class', '2nd Class', '3rd Class'], height = train['Survived'].groupby(train['Pclass']).mean())\n",
        "ax.set_title('Class vs Survival Rate')\n",
        "ax.set_xlabel('Class Assignment')\n",
        "ax.set_ylabel('Survived')\n",
        "plt.tight_layout()\n",
        "plt.show()"
      ],
      "execution_count": null,
      "outputs": [
        {
          "output_type": "display_data",
          "data": {
            "image/png": "[encoded data removed]",
            "text/plain": [
              "<Figure size 864x576 with 1 Axes>"
            ]
          },
          "metadata": {
            "tags": []
          }
        }
      ]
    },
    {
      "cell_type": "markdown",
      "metadata": {
        "id": "3W6E6DT4txd7"
      },
      "source": [
        "We should identify each person as a \"Mr.\", \"Miss.\", \"Mrs.\" (their titles), to see if titles of varying social standing and gender association had differing survival rates"
      ]
    },
    {
      "cell_type": "code",
      "metadata": {
        "id": "IClTJbbqto0B"
      },
      "source": [
        "## We will use str.extract and a regex expression to do this\n",
        "### Regex is difficult to understand. Go pratice this!\n",
        "train['titles'] = train['Name'].str.extract(r', (\\w+\\.)')\n",
        "train.dropna(inplace=True)"
      ],
      "execution_count": null,
      "outputs": []
    },
    {
      "cell_type": "code",
      "metadata": {
        "colab": {
          "base_uri": "https://localhost:8080/",
          "height": 873
        },
        "id": "QnZC2i2bvPud",
        "outputId": "19319dac-a51a-40af-d6f6-38cf070d4fd7"
      },
      "source": [
        "fig, ax = plt.subplots(2, figsize=(15, 12))\n",
        "f = sns.barplot(x='titles', y='Survived', ax=ax[0], data=train)\n",
        "for p in f.patches:\n",
        "    f.annotate(format(p.get_height(), '.1f'), \n",
        "                   (p.get_x() + p.get_width() / 2., p.get_height()), \n",
        "                   ha = 'center', va = 'center', \n",
        "                   xytext = (0, 9), \n",
        "                   textcoords = 'offset points')\n",
        "ax[0].set_title('Title vs Survival Rate')\n",
        "\n",
        "h = train.titles.value_counts().plot(kind='bar', ax=ax[1])\n",
        "for p in h.patches:\n",
        "    h.annotate(format(p.get_height(), '.1f'), \n",
        "                   (p.get_x() + p.get_width() / 2., p.get_height()), \n",
        "                   ha = 'center', va = 'center', \n",
        "                   xytext = (0, 9), \n",
        "                   textcoords = 'offset points')\n",
        "ax[1].set_title('Titles Value Counts')\n",
        "ax[1].set_xlabel('Title')\n",
        "ax[1].set_ylabel('Count')\n",
        "plt.tight_layout()\n",
        "plt.show()"
      ],
      "execution_count": null,
      "outputs": [
        {
          "output_type": "display_data",
          "data": {
            "image/png": "[encoded data removed]",
            "text/plain": [
              "<Figure size 1080x864 with 2 Axes>"
            ]
          },
          "metadata": {
            "tags": []
          }
        }
      ]
    },
    {
      "cell_type": "markdown",
      "metadata": {
        "id": "vcTgmwULw4tv"
      },
      "source": [
        "Those with titles of higher social standing and those that were attributed to the female sex had much higher chances of survival! However, these results are misleading, because out of the many hundreds of people on board the Titanic, less than 30 people held any title that was higher in social standing than that of \"Mr\", \"Miss\", \"Mrs\", or \"Master\". Therefore, we will classify all of the titles other than these listed as \"Other\""
      ]
    },
    {
      "cell_type": "markdown",
      "metadata": {
        "id": "7H5n31cR33Oq"
      },
      "source": [
        "Let's quickly deal with the Parent/Children (Parch) column by binning the values into 0,1,2,other"
      ]
    },
    {
      "cell_type": "code",
      "metadata": {
        "id": "20bWJW2e39K6"
      },
      "source": [
        "train['Parch'].replace({5:'Other', 3:'Other', 4:'Other', 6:'Other'}, inplace=True)"
      ],
      "execution_count": null,
      "outputs": []
    },
    {
      "cell_type": "markdown",
      "metadata": {
        "id": "syOSa2B0xvjt"
      },
      "source": [
        "Finally, let's identify the affect that familial bonds had on survival rate! Let's sort the Names in alphabetical order, which works because last names come first, and then identify the ticket these names had!"
      ]
    },
    {
      "cell_type": "code",
      "metadata": {
        "colab": {
          "base_uri": "https://localhost:8080/",
          "height": 447
        },
        "id": "cOjLU_t_zAnK",
        "outputId": "c0d96c0b-747b-4d53-d2d2-adfe67737d5d"
      },
      "source": [
        "train[['Name', 'Ticket']].sort_values(by='Name')"
      ],
      "execution_count": null,
      "outputs": [
        {
          "output_type": "execute_result",
          "data": {
            "text/html": [
              "<div>\n",
              "<style scoped>\n",
              "    .dataframe tbody tr th:only-of-type {\n",
              "        vertical-align: middle;\n",
              "    }\n",
              "\n",
              "    .dataframe tbody tr th {\n",
              "        vertical-align: top;\n",
              "    }\n",
              "\n",
              "    .dataframe thead th {\n",
              "        text-align: right;\n",
              "    }\n",
              "</style>\n",
              "<table border=\"1\" class=\"dataframe\">\n",
              "  <thead>\n",
              "    <tr style=\"text-align: right;\">\n",
              "      <th></th>\n",
              "      <th>Name</th>\n",
              "      <th>Ticket</th>\n",
              "    </tr>\n",
              "    <tr>\n",
              "      <th>PassengerId</th>\n",
              "      <th></th>\n",
              "      <th></th>\n",
              "    </tr>\n",
              "  </thead>\n",
              "  <tbody>\n",
              "    <tr>\n",
              "      <th>846</th>\n",
              "      <td>Abbing, Mr. Anthony</td>\n",
              "      <td>C.A. 5547</td>\n",
              "    </tr>\n",
              "    <tr>\n",
              "      <th>747</th>\n",
              "      <td>Abbott, Mr. Rossmore Edward</td>\n",
              "      <td>C.A. 2673</td>\n",
              "    </tr>\n",
              "    <tr>\n",
              "      <th>280</th>\n",
              "      <td>Abbott, Mrs. Stanton (Rosa Hunt)</td>\n",
              "      <td>C.A. 2673</td>\n",
              "    </tr>\n",
              "    <tr>\n",
              "      <th>309</th>\n",
              "      <td>Abelson, Mr. Samuel</td>\n",
              "      <td>P/PP 3381</td>\n",
              "    </tr>\n",
              "    <tr>\n",
              "      <th>875</th>\n",
              "      <td>Abelson, Mrs. Samuel (Hannah Wizosky)</td>\n",
              "      <td>P/PP 3381</td>\n",
              "    </tr>\n",
              "    <tr>\n",
              "      <th>...</th>\n",
              "      <td>...</td>\n",
              "      <td>...</td>\n",
              "    </tr>\n",
              "    <tr>\n",
              "      <th>287</th>\n",
              "      <td>de Mulder, Mr. Theodore</td>\n",
              "      <td>345774</td>\n",
              "    </tr>\n",
              "    <tr>\n",
              "      <th>283</th>\n",
              "      <td>de Pelsmaeker, Mr. Alfons</td>\n",
              "      <td>345778</td>\n",
              "    </tr>\n",
              "    <tr>\n",
              "      <th>362</th>\n",
              "      <td>del Carlo, Mr. Sebastiano</td>\n",
              "      <td>SC/PARIS 2167</td>\n",
              "    </tr>\n",
              "    <tr>\n",
              "      <th>154</th>\n",
              "      <td>van Billiard, Mr. Austin Blyler</td>\n",
              "      <td>A/5. 851</td>\n",
              "    </tr>\n",
              "    <tr>\n",
              "      <th>869</th>\n",
              "      <td>van Melkebeke, Mr. Philemon</td>\n",
              "      <td>345777</td>\n",
              "    </tr>\n",
              "  </tbody>\n",
              "</table>\n",
              "<p>870 rows × 2 columns</p>\n",
              "</div>"
            ],
            "text/plain": [
              "                                              Name         Ticket\n",
              "PassengerId                                                      \n",
              "846                            Abbing, Mr. Anthony      C.A. 5547\n",
              "747                    Abbott, Mr. Rossmore Edward      C.A. 2673\n",
              "280               Abbott, Mrs. Stanton (Rosa Hunt)      C.A. 2673\n",
              "309                            Abelson, Mr. Samuel      P/PP 3381\n",
              "875          Abelson, Mrs. Samuel (Hannah Wizosky)      P/PP 3381\n",
              "...                                            ...            ...\n",
              "287                        de Mulder, Mr. Theodore         345774\n",
              "283                      de Pelsmaeker, Mr. Alfons         345778\n",
              "362                      del Carlo, Mr. Sebastiano  SC/PARIS 2167\n",
              "154                van Billiard, Mr. Austin Blyler       A/5. 851\n",
              "869                    van Melkebeke, Mr. Philemon         345777\n",
              "\n",
              "[870 rows x 2 columns]"
            ]
          },
          "metadata": {
            "tags": []
          },
          "execution_count": 20
        }
      ]
    },
    {
      "cell_type": "markdown",
      "metadata": {
        "id": "f-iXHF1wzP9J"
      },
      "source": [
        "When it comes to ticket assignment, those who were in the same family had the same tickets!! Let's see exactly how many families were on board"
      ]
    },
    {
      "cell_type": "code",
      "metadata": {
        "colab": {
          "base_uri": "https://localhost:8080/"
        },
        "id": "iUVJbcEwvcVI",
        "outputId": "e0e8e7c4-d98a-4104-a7cb-38e1d99e91ea"
      },
      "source": [
        "train['Ticket'][train['Ticket'].duplicated(keep=False)]"
      ],
      "execution_count": null,
      "outputs": [
        {
          "output_type": "execute_result",
          "data": {
            "text/plain": [
              "PassengerId\n",
              "4          113803\n",
              "8          349909\n",
              "9          347742\n",
              "10         237736\n",
              "11        PP 9549\n",
              "          ...    \n",
              "877          7534\n",
              "880         11767\n",
              "881        230433\n",
              "886        382652\n",
              "889    W./C. 6607\n",
              "Name: Ticket, Length: 325, dtype: object"
            ]
          },
          "metadata": {
            "tags": []
          },
          "execution_count": 21
        }
      ]
    },
    {
      "cell_type": "markdown",
      "metadata": {
        "id": "WwIKS-OKzUw6"
      },
      "source": [
        "There were a total of 326 people associated with a family in total. Let's classify each of these passengers as \"With family\" and all of the other passengers as \"Without family\""
      ]
    },
    {
      "cell_type": "code",
      "metadata": {
        "id": "3GPUkqKbzrd1"
      },
      "source": [
        "## Find duplicate tickets and associate the passengers with those duplicated tickets as having a family\n",
        "train['Family Status'] = train['Ticket'].duplicated(keep=False)\n",
        "train['Family Status'].replace({False:'Without Family', True:'With Family'}, inplace=True)"
      ],
      "execution_count": null,
      "outputs": []
    },
    {
      "cell_type": "markdown",
      "metadata": {
        "id": "XSEMDkyF2ULn"
      },
      "source": [
        "Let's model!"
      ]
    },
    {
      "cell_type": "markdown",
      "metadata": {
        "id": "Nf_kHPSo23RD"
      },
      "source": [
        "First, let's drop all of the unneeded columns"
      ]
    },
    {
      "cell_type": "code",
      "metadata": {
        "id": "LKYRx8KE22v-"
      },
      "source": [
        "## Create a new dataframe, df, our dataframe to be used for modeling\n",
        "df = train.drop(columns=['PassengerId', 'Name', 'Age', 'Ticket', 'Fare'])"
      ],
      "execution_count": null,
      "outputs": []
    },
    {
      "cell_type": "markdown",
      "metadata": {
        "id": "A135U0f_4OZD"
      },
      "source": [
        "Let's numerically encoe all of the columns that need to be"
      ]
    },
    {
      "cell_type": "code",
      "metadata": {
        "id": "vL-lfSKu2_Px"
      },
      "source": [
        "## Numerically encode columns\n",
        "\n",
        "### Family Status column\n",
        "df['Family Status'].replace({'Without Family':0, 'With Family':1}, inplace=True)\n",
        "\n",
        "### titles column\n",
        "df['titles'].replace({'Mr.':0, 'Mrs.':1, 'Miss.':2, 'Master.':3, 'Don.':4, 'Rev.':4, 'Dr.':4, \n",
        "                      'Mme.':4, 'Ms.':4, 'Major.':4, 'Lady.':4, 'Sir.':4, 'Mlle.':4, 'Col.':4, \n",
        "                      'Capt.':4, 'Jonkheer.':4}, inplace=True)\n",
        "\n",
        "### binned_age column\n",
        "from sklearn.preprocessing import LabelEncoder\n",
        "le = LabelEncoder()\n",
        "df['binned_age'] = le.fit_transform(df['binned_age'])\n",
        "\n",
        "### binned_fare column\n",
        "le2 = LabelEncoder()\n",
        "df['binned_fare'] = le2.fit_transform(df['binned_fare'])\n",
        "\n",
        "### Embarked column\n",
        "le3 = LabelEncoder()\n",
        "df['Embarked'] = le3.fit_transform(df['Embarked'])"
      ],
      "execution_count": null,
      "outputs": []
    },
    {
      "cell_type": "markdown",
      "metadata": {
        "id": "iKUG9SD6MSDm"
      },
      "source": [
        "Let's test our model on our current data now!"
      ]
    },
    {
      "cell_type": "code",
      "metadata": {
        "id": "bUaFPTgyMVMw"
      },
      "source": [
        "from sklearn.model_selection import train_test_split\n",
        "trains, tests = train_test_split(df, random_state=3)\n",
        "\n",
        "\n",
        "from sklearn.linear_model import LogisticRegression\n",
        "lr = LogisticRegression()\n",
        "x_train = trains.drop(columns='Survived')\n",
        "y_train = trains['Survived']\n",
        "x_test = tests.drop(columns='Survived')\n",
        "x_train['Parch'].replace({'Other':3}, inplace=True)\n",
        "x_test['Parch'].replace({'Other':3}, inplace=True)\n",
        "lr.fit(x_train, y_train)\n",
        "y_pred = lr.predict(x_test)"
      ],
      "execution_count": null,
      "outputs": []
    },
    {
      "cell_type": "code",
      "metadata": {
        "colab": {
          "base_uri": "https://localhost:8080/"
        },
        "id": "_41Tm_QiNuOP",
        "outputId": "4cae4bc6-fde7-4158-f430-99f16b29e533"
      },
      "source": [
        "from sklearn.metrics import accuracy_score\n",
        "accuracy_score(y_pred, tests['Survived'])"
      ],
      "execution_count": null,
      "outputs": [
        {
          "output_type": "execute_result",
          "data": {
            "text/plain": [
              "0.7568807339449541"
            ]
          },
          "metadata": {
            "tags": []
          },
          "execution_count": 26
        }
      ]
    },
    {
      "cell_type": "markdown",
      "metadata": {
        "id": "JjiPIvEwOAyv"
      },
      "source": [
        "The logistic regression approach did not work so well. Let's use different classifiers."
      ]
    },
    {
      "cell_type": "code",
      "metadata": {
        "colab": {
          "base_uri": "https://localhost:8080/"
        },
        "id": "gjU1Jo9nOFG8",
        "outputId": "e9a091e5-afd1-4866-c886-5c021eaeec60"
      },
      "source": [
        "from sklearn.ensemble import RandomForestClassifier\n",
        "from sklearn.ensemble import GradientBoostingClassifier\n",
        "\n",
        "# Random Forest\n",
        "rfc = RandomForestClassifier()\n",
        "rfc.fit(x_train, y_train)\n",
        "y1 = rfc.predict(x_test)\n",
        "\n",
        "from sklearn.metrics import accuracy_score\n",
        "print('Random Forest: ', accuracy_score(y1, tests['Survived']))\n",
        "\n",
        "# Gradient Boost\n",
        "boost = GradientBoostingClassifier()\n",
        "boost.fit(x_train, y_train)\n",
        "y2 = boost.predict(x_test)\n",
        "\n",
        "from sklearn.metrics import accuracy_score\n",
        "print('Gradient Boost: ', accuracy_score(y2, tests['Survived']))\n",
        "\n",
        "from xgboost import XGBClassifier\n",
        "xgb = XGBClassifier()\n",
        "xgb.fit(x_train, y_train)\n",
        "y3 = xgb.predict(x_test)\n",
        "print('XGBoost: ', accuracy_score(y3, tests['Survived']))\n",
        "\n",
        "from sklearn.svm import SVC\n",
        "svc = SVC()\n",
        "svc.fit(x_train, y_train)\n",
        "y4 = svc.predict(x_test)\n",
        "print('SVC: ', accuracy_score(y4, tests['Survived']))"
      ],
      "execution_count": null,
      "outputs": [
        {
          "output_type": "stream",
          "text": [
            "Random Forest:  0.7844036697247706\n",
            "Gradient Boost:  0.7844036697247706\n",
            "XGBoost:  0.7981651376146789\n",
            "SVC:  0.7798165137614679\n"
          ],
          "name": "stdout"
        }
      ]
    },
    {
      "cell_type": "code",
      "metadata": {
        "colab": {
          "base_uri": "https://localhost:8080/"
        },
        "id": "HgTh4zSBbkHz",
        "outputId": "19222b81-befd-477d-f90a-494790e66a86"
      },
      "source": [
        "from sklearn.model_selection import KFold, GridSearchCV\n",
        "from sklearn.metrics import accuracy_score, make_scorer\n",
        "# Define our search space for grid search\n",
        "search_space = [\n",
        "  {\n",
        "    'n_estimators': [500, 1000, 10000],\n",
        "    'learning_rate': [0.01, 0.001, 0.001, 0.2, 0.3],\n",
        "    'max_depth': range(3, 6),\n",
        "    'colsample_bytree': [i/10.0 for i in range(1, 4)],\n",
        "    'gamma': [i/10.0 for i in range(5)],\n",
        "    'k': [5, 7, 10],\n",
        "  }\n",
        "]\n",
        "# Define cross validation\n",
        "kfold = KFold(n_splits=10)\n",
        "\n",
        "grid_search = GridSearchCV(estimator=xgb, param_grid=search_space, n_jobs=-1, cv=kfold, verbose=1)\n",
        "\n",
        "grid_search.fit(x_train, y_train)"
      ],
      "execution_count": null,
      "outputs": [
        {
          "output_type": "stream",
          "text": [
            "Fitting 10 folds for each of 2025 candidates, totalling 20250 fits\n"
          ],
          "name": "stdout"
        },
        {
          "output_type": "stream",
          "text": [
            "[Parallel(n_jobs=-1)]: Using backend LokyBackend with 2 concurrent workers.\n",
            "[Parallel(n_jobs=-1)]: Done  46 tasks      | elapsed:   18.9s\n",
            "[Parallel(n_jobs=-1)]: Done 196 tasks      | elapsed:  1.7min\n",
            "[Parallel(n_jobs=-1)]: Done 446 tasks      | elapsed:  3.8min\n",
            "[Parallel(n_jobs=-1)]: Done 796 tasks      | elapsed:  6.8min\n",
            "[Parallel(n_jobs=-1)]: Done 1246 tasks      | elapsed: 10.6min\n",
            "[Parallel(n_jobs=-1)]: Done 1796 tasks      | elapsed: 15.4min\n",
            "[Parallel(n_jobs=-1)]: Done 2446 tasks      | elapsed: 21.1min\n",
            "[Parallel(n_jobs=-1)]: Done 3196 tasks      | elapsed: 27.6min\n",
            "[Parallel(n_jobs=-1)]: Done 4046 tasks      | elapsed: 35.2min\n",
            "[Parallel(n_jobs=-1)]: Done 4996 tasks      | elapsed: 43.4min\n",
            "[Parallel(n_jobs=-1)]: Done 6046 tasks      | elapsed: 52.6min\n",
            "[Parallel(n_jobs=-1)]: Done 7196 tasks      | elapsed: 62.7min\n",
            "[Parallel(n_jobs=-1)]: Done 8446 tasks      | elapsed: 73.4min\n",
            "[Parallel(n_jobs=-1)]: Done 9796 tasks      | elapsed: 85.3min\n",
            "[Parallel(n_jobs=-1)]: Done 11246 tasks      | elapsed: 98.0min\n",
            "[Parallel(n_jobs=-1)]: Done 12796 tasks      | elapsed: 111.6min\n",
            "[Parallel(n_jobs=-1)]: Done 14446 tasks      | elapsed: 128.3min\n",
            "[Parallel(n_jobs=-1)]: Done 16196 tasks      | elapsed: 147.7min\n",
            "[Parallel(n_jobs=-1)]: Done 18046 tasks      | elapsed: 167.8min\n",
            "[Parallel(n_jobs=-1)]: Done 19996 tasks      | elapsed: 189.2min\n",
            "[Parallel(n_jobs=-1)]: Done 20250 out of 20250 | elapsed: 192.1min finished\n"
          ],
          "name": "stderr"
        },
        {
          "output_type": "execute_result",
          "data": {
            "text/plain": [
              "GridSearchCV(cv=KFold(n_splits=10, random_state=None, shuffle=False),\n",
              "             error_score=nan,\n",
              "             estimator=XGBClassifier(base_score=0.5, booster='gbtree',\n",
              "                                     colsample_bylevel=1, colsample_bynode=1,\n",
              "                                     colsample_bytree=1, gamma=0,\n",
              "                                     learning_rate=0.1, max_delta_step=0,\n",
              "                                     max_depth=3, min_child_weight=1,\n",
              "                                     missing=None, n_estimators=100, n_jobs=1,\n",
              "                                     nthread=None, objective='binary:logistic'...\n",
              "                                     scale_pos_weight=1, seed=None, silent=None,\n",
              "                                     subsample=1, verbosity=1),\n",
              "             iid='deprecated', n_jobs=-1,\n",
              "             param_grid=[{'colsample_bytree': [0.1, 0.2, 0.3],\n",
              "                          'gamma': [0.0, 0.1, 0.2, 0.3, 0.4], 'k': [5, 7, 10],\n",
              "                          'learning_rate': [0.01, 0.001, 0.001, 0.2, 0.3],\n",
              "                          'max_depth': range(3, 6),\n",
              "                          'n_estimators': [500, 1000, 10000]}],\n",
              "             pre_dispatch='2*n_jobs', refit=True, return_train_score=False,\n",
              "             scoring=None, verbose=1)"
            ]
          },
          "metadata": {
            "tags": []
          },
          "execution_count": 28
        }
      ]
    },
    {
      "cell_type": "code",
      "metadata": {
        "colab": {
          "base_uri": "https://localhost:8080/"
        },
        "id": "4fAr0P2EeXuX",
        "outputId": "d6560925-11d9-475b-b06c-7924c60932b1"
      },
      "source": [
        "grid_search.best_score_, grid_search.best_estimator_, grid_search.best_params_"
      ],
      "execution_count": null,
      "outputs": [
        {
          "output_type": "execute_result",
          "data": {
            "text/plain": [
              "(0.8467599067599068,\n",
              " XGBClassifier(base_score=0.5, booster='gbtree', colsample_bylevel=1,\n",
              "               colsample_bynode=1, colsample_bytree=0.3, gamma=0.2, k=5,\n",
              "               learning_rate=0.2, max_delta_step=0, max_depth=4,\n",
              "               min_child_weight=1, missing=None, n_estimators=1000, n_jobs=1,\n",
              "               nthread=None, objective='binary:logistic', random_state=0,\n",
              "               reg_alpha=0, reg_lambda=1, scale_pos_weight=1, seed=None,\n",
              "               silent=None, subsample=1, verbosity=1),\n",
              " {'colsample_bytree': 0.3,\n",
              "  'gamma': 0.2,\n",
              "  'k': 5,\n",
              "  'learning_rate': 0.2,\n",
              "  'max_depth': 4,\n",
              "  'n_estimators': 1000})"
            ]
          },
          "metadata": {
            "tags": []
          },
          "execution_count": 29
        }
      ]
    },
    {
      "cell_type": "code",
      "metadata": {
        "colab": {
          "base_uri": "https://localhost:8080/"
        },
        "id": "Dg_5WFvkdbGz",
        "outputId": "8d61d4ff-6a46-404f-bcee-377bb1a6b46d"
      },
      "source": [
        "xgb2 = grid_search.best_estimator_\n",
        "xgb2.fit(x_train, y_train)\n",
        "y5 = xgb2.predict(x_test)\n",
        "print('XGBoost: ', accuracy_score(y5, tests['Survived']))"
      ],
      "execution_count": null,
      "outputs": [
        {
          "output_type": "stream",
          "text": [
            "XGBoost:  0.7889908256880734\n"
          ],
          "name": "stdout"
        }
      ]
    },
    {
      "cell_type": "markdown",
      "metadata": {
        "id": "FTwMWDaiGoW4"
      },
      "source": [
        "We have to do all the same preprocessing on the test data for making predictions for the competition"
      ]
    },
    {
      "cell_type": "code",
      "metadata": {
        "id": "D-28iqn5G26O"
      },
      "source": [
        "test = pd.read_csv('test.csv')\n",
        "\n",
        "## Let's make the passenger IDs the index of the data\n",
        "test.index = test['PassengerId']\n",
        "\n",
        "## Drop the Cabin column because there are so many missing values\n",
        "test = test.drop(columns=['Cabin'])\n",
        "\n",
        "## Impute missing age values with the median\n",
        "test['Age'].fillna(test['Age'].median(), inplace=True)\n",
        "\n",
        "## Impute missing embarked values with the mode\n",
        "test['Embarked'].fillna(test['Embarked'].mode()[0], inplace=True)\n",
        "\n",
        "## Bin the ages\n",
        "test['binned_age'] = pd.qcut(test['Age'], q=6)\n",
        "\n",
        "# Numerically encode sex column\n",
        "test['Sex'].replace({'male':0, 'female':1}, inplace=True)\n",
        "\n",
        "# Numerically encode Sibling/Spouse column\n",
        "test['SibSp'].replace({4:3, 5:3, 8:3}, inplace=True)\n",
        "\n",
        "# Outliers\n",
        "from scipy import stats\n",
        "## Copy dataframe\n",
        "out = test.copy()\n",
        "## Calculate z-scores and place in dataframe column\n",
        "out['z'] = np.abs(stats.zscore(test['Fare']))\n",
        "out = out['z']\n",
        "## Drop the index values that contain z-scores greater than 3\n",
        "test.drop(out[out>3].index.values, axis=0, inplace=True)\n",
        "\n",
        "# Bin the fares\n",
        "test['binned_fare'] = pd.qcut(x=test['Fare'], q=6)\n",
        "\n",
        "# Identify titles and drop any random missing values\n",
        "test['titles'] = test['Name'].str.extract(r', (\\w+\\.)')\n",
        "test.dropna(inplace=True)\n",
        "\n",
        "# Numerically encode Parch column\n",
        "test['Parch'].replace({5:'Other', 3:'Other', 4:'Other', 6:'Other'}, inplace=True)\n",
        "\n",
        "## Find duplicate tickets and associate the passengers with those duplicated tickets as having a family\n",
        "test['Family Status'] = test['Ticket'].duplicated(keep=False)\n",
        "test['Family Status'].replace({False:'Without Family', True:'With Family'}, inplace=True)\n",
        "\n",
        "## Create a new dataframe, df, our dataframe to be used for modeling\n",
        "df2 = test.drop(columns=['PassengerId', 'Name', 'Age', 'Ticket', 'Fare'])\n",
        "\n",
        "## Numerically encode columns\n",
        "\n",
        "### Family Status column\n",
        "df2['Family Status'].replace({'Without Family':0, 'With Family':1}, inplace=True)\n",
        "\n",
        "### titles column\n",
        "df2['titles'].replace({'Mr.':0, 'Mrs.':1, 'Miss.':2, 'Master.':3, 'Don.':4, 'Rev.':4, 'Dr.':4, \n",
        "                      'Mme.':4, 'Ms.':4, 'Major.':4, 'Lady.':4, 'Sir.':4, 'Mlle.':4, 'Col.':4, \n",
        "                      'Capt.':4, 'Jonkheer.':4}, inplace=True)\n",
        "\n",
        "### binned_age column\n",
        "from sklearn.preprocessing import LabelEncoder\n",
        "le = LabelEncoder()\n",
        "df2['binned_age'] = le.fit_transform(df2['binned_age'])\n",
        "\n",
        "### binned_fare column\n",
        "le2 = LabelEncoder()\n",
        "df2['binned_fare'] = le2.fit_transform(df2['binned_fare'])\n",
        "\n",
        "### Embarked column\n",
        "le3 = LabelEncoder()\n",
        "df2['Embarked'] = le3.fit_transform(df2['Embarked'])"
      ],
      "execution_count": null,
      "outputs": []
    },
    {
      "cell_type": "code",
      "metadata": {
        "id": "RkfrPsVzCCLq",
        "colab": {
          "base_uri": "https://localhost:8080/",
          "height": 337
        },
        "outputId": "c617e380-6722-494d-d5b1-f39217953994"
      },
      "source": [
        "# df2.drop(1306, axis=0, inplace=True)\n",
        "from sklearn.linear_model import LogisticRegression\n",
        "lr = LogisticRegression()\n",
        "x_train = df.drop(columns='Survived')\n",
        "y_train = df['Survived']\n",
        "x_test = df2\n",
        "x_train['Parch'].replace({'Other':3}, inplace=True)\n",
        "x_test['Parch'].replace({'Other':3}, inplace=True)\n",
        "lr.fit(x_train, y_train)\n",
        "y_pred = lr.predict(x_test)"
      ],
      "execution_count": null,
      "outputs": [
        {
          "output_type": "error",
          "ename": "ValueError",
          "evalue": "ignored",
          "traceback": [
            "\u001b[0;31m---------------------------------------------------------------------------\u001b[0m",
            "\u001b[0;31mValueError\u001b[0m                                Traceback (most recent call last)",
            "\u001b[0;32m<ipython-input-35-d8bc9b4d83ed>\u001b[0m in \u001b[0;36m<module>\u001b[0;34m()\u001b[0m\n\u001b[1;32m      8\u001b[0m \u001b[0;31m# x_test['Parch'].replace({'Other':3}, inplace=True)\u001b[0m\u001b[0;34m\u001b[0m\u001b[0;34m\u001b[0m\u001b[0;34m\u001b[0m\u001b[0m\n\u001b[1;32m      9\u001b[0m \u001b[0mlr\u001b[0m\u001b[0;34m.\u001b[0m\u001b[0mfit\u001b[0m\u001b[0;34m(\u001b[0m\u001b[0mx_train\u001b[0m\u001b[0;34m,\u001b[0m \u001b[0my_train\u001b[0m\u001b[0;34m)\u001b[0m\u001b[0;34m\u001b[0m\u001b[0;34m\u001b[0m\u001b[0m\n\u001b[0;32m---> 10\u001b[0;31m \u001b[0my_pred\u001b[0m \u001b[0;34m=\u001b[0m \u001b[0mlr\u001b[0m\u001b[0;34m.\u001b[0m\u001b[0mpredict\u001b[0m\u001b[0;34m(\u001b[0m\u001b[0mx_test\u001b[0m\u001b[0;34m)\u001b[0m\u001b[0;34m\u001b[0m\u001b[0;34m\u001b[0m\u001b[0m\n\u001b[0m",
            "\u001b[0;32m/usr/local/lib/python3.7/dist-packages/sklearn/linear_model/_base.py\u001b[0m in \u001b[0;36mpredict\u001b[0;34m(self, X)\u001b[0m\n\u001b[1;32m    291\u001b[0m             \u001b[0mPredicted\u001b[0m \u001b[0;32mclass\u001b[0m \u001b[0mlabel\u001b[0m \u001b[0mper\u001b[0m \u001b[0msample\u001b[0m\u001b[0;34m.\u001b[0m\u001b[0;34m\u001b[0m\u001b[0;34m\u001b[0m\u001b[0m\n\u001b[1;32m    292\u001b[0m         \"\"\"\n\u001b[0;32m--> 293\u001b[0;31m         \u001b[0mscores\u001b[0m \u001b[0;34m=\u001b[0m \u001b[0mself\u001b[0m\u001b[0;34m.\u001b[0m\u001b[0mdecision_function\u001b[0m\u001b[0;34m(\u001b[0m\u001b[0mX\u001b[0m\u001b[0;34m)\u001b[0m\u001b[0;34m\u001b[0m\u001b[0;34m\u001b[0m\u001b[0m\n\u001b[0m\u001b[1;32m    294\u001b[0m         \u001b[0;32mif\u001b[0m \u001b[0mlen\u001b[0m\u001b[0;34m(\u001b[0m\u001b[0mscores\u001b[0m\u001b[0;34m.\u001b[0m\u001b[0mshape\u001b[0m\u001b[0;34m)\u001b[0m \u001b[0;34m==\u001b[0m \u001b[0;36m1\u001b[0m\u001b[0;34m:\u001b[0m\u001b[0;34m\u001b[0m\u001b[0;34m\u001b[0m\u001b[0m\n\u001b[1;32m    295\u001b[0m             \u001b[0mindices\u001b[0m \u001b[0;34m=\u001b[0m \u001b[0;34m(\u001b[0m\u001b[0mscores\u001b[0m \u001b[0;34m>\u001b[0m \u001b[0;36m0\u001b[0m\u001b[0;34m)\u001b[0m\u001b[0;34m.\u001b[0m\u001b[0mastype\u001b[0m\u001b[0;34m(\u001b[0m\u001b[0mnp\u001b[0m\u001b[0;34m.\u001b[0m\u001b[0mint\u001b[0m\u001b[0;34m)\u001b[0m\u001b[0;34m\u001b[0m\u001b[0;34m\u001b[0m\u001b[0m\n",
            "\u001b[0;32m/usr/local/lib/python3.7/dist-packages/sklearn/linear_model/_base.py\u001b[0m in \u001b[0;36mdecision_function\u001b[0;34m(self, X)\u001b[0m\n\u001b[1;32m    266\u001b[0m         \u001b[0mcheck_is_fitted\u001b[0m\u001b[0;34m(\u001b[0m\u001b[0mself\u001b[0m\u001b[0;34m)\u001b[0m\u001b[0;34m\u001b[0m\u001b[0;34m\u001b[0m\u001b[0m\n\u001b[1;32m    267\u001b[0m \u001b[0;34m\u001b[0m\u001b[0m\n\u001b[0;32m--> 268\u001b[0;31m         \u001b[0mX\u001b[0m \u001b[0;34m=\u001b[0m \u001b[0mcheck_array\u001b[0m\u001b[0;34m(\u001b[0m\u001b[0mX\u001b[0m\u001b[0;34m,\u001b[0m \u001b[0maccept_sparse\u001b[0m\u001b[0;34m=\u001b[0m\u001b[0;34m'csr'\u001b[0m\u001b[0;34m)\u001b[0m\u001b[0;34m\u001b[0m\u001b[0;34m\u001b[0m\u001b[0m\n\u001b[0m\u001b[1;32m    269\u001b[0m \u001b[0;34m\u001b[0m\u001b[0m\n\u001b[1;32m    270\u001b[0m         \u001b[0mn_features\u001b[0m \u001b[0;34m=\u001b[0m \u001b[0mself\u001b[0m\u001b[0;34m.\u001b[0m\u001b[0mcoef_\u001b[0m\u001b[0;34m.\u001b[0m\u001b[0mshape\u001b[0m\u001b[0;34m[\u001b[0m\u001b[0;36m1\u001b[0m\u001b[0;34m]\u001b[0m\u001b[0;34m\u001b[0m\u001b[0;34m\u001b[0m\u001b[0m\n",
            "\u001b[0;32m/usr/local/lib/python3.7/dist-packages/sklearn/utils/validation.py\u001b[0m in \u001b[0;36mcheck_array\u001b[0;34m(array, accept_sparse, accept_large_sparse, dtype, order, copy, force_all_finite, ensure_2d, allow_nd, ensure_min_samples, ensure_min_features, warn_on_dtype, estimator)\u001b[0m\n\u001b[1;32m    529\u001b[0m                     \u001b[0marray\u001b[0m \u001b[0;34m=\u001b[0m \u001b[0marray\u001b[0m\u001b[0;34m.\u001b[0m\u001b[0mastype\u001b[0m\u001b[0;34m(\u001b[0m\u001b[0mdtype\u001b[0m\u001b[0;34m,\u001b[0m \u001b[0mcasting\u001b[0m\u001b[0;34m=\u001b[0m\u001b[0;34m\"unsafe\"\u001b[0m\u001b[0;34m,\u001b[0m \u001b[0mcopy\u001b[0m\u001b[0;34m=\u001b[0m\u001b[0;32mFalse\u001b[0m\u001b[0;34m)\u001b[0m\u001b[0;34m\u001b[0m\u001b[0;34m\u001b[0m\u001b[0m\n\u001b[1;32m    530\u001b[0m                 \u001b[0;32melse\u001b[0m\u001b[0;34m:\u001b[0m\u001b[0;34m\u001b[0m\u001b[0;34m\u001b[0m\u001b[0m\n\u001b[0;32m--> 531\u001b[0;31m                     \u001b[0marray\u001b[0m \u001b[0;34m=\u001b[0m \u001b[0mnp\u001b[0m\u001b[0;34m.\u001b[0m\u001b[0masarray\u001b[0m\u001b[0;34m(\u001b[0m\u001b[0marray\u001b[0m\u001b[0;34m,\u001b[0m \u001b[0morder\u001b[0m\u001b[0;34m=\u001b[0m\u001b[0morder\u001b[0m\u001b[0;34m,\u001b[0m \u001b[0mdtype\u001b[0m\u001b[0;34m=\u001b[0m\u001b[0mdtype\u001b[0m\u001b[0;34m)\u001b[0m\u001b[0;34m\u001b[0m\u001b[0;34m\u001b[0m\u001b[0m\n\u001b[0m\u001b[1;32m    532\u001b[0m             \u001b[0;32mexcept\u001b[0m \u001b[0mComplexWarning\u001b[0m\u001b[0;34m:\u001b[0m\u001b[0;34m\u001b[0m\u001b[0;34m\u001b[0m\u001b[0m\n\u001b[1;32m    533\u001b[0m                 raise ValueError(\"Complex data not supported\\n\"\n",
            "\u001b[0;32m/usr/local/lib/python3.7/dist-packages/numpy/core/_asarray.py\u001b[0m in \u001b[0;36masarray\u001b[0;34m(a, dtype, order)\u001b[0m\n\u001b[1;32m     81\u001b[0m \u001b[0;34m\u001b[0m\u001b[0m\n\u001b[1;32m     82\u001b[0m     \"\"\"\n\u001b[0;32m---> 83\u001b[0;31m     \u001b[0;32mreturn\u001b[0m \u001b[0marray\u001b[0m\u001b[0;34m(\u001b[0m\u001b[0ma\u001b[0m\u001b[0;34m,\u001b[0m \u001b[0mdtype\u001b[0m\u001b[0;34m,\u001b[0m \u001b[0mcopy\u001b[0m\u001b[0;34m=\u001b[0m\u001b[0;32mFalse\u001b[0m\u001b[0;34m,\u001b[0m \u001b[0morder\u001b[0m\u001b[0;34m=\u001b[0m\u001b[0morder\u001b[0m\u001b[0;34m)\u001b[0m\u001b[0;34m\u001b[0m\u001b[0;34m\u001b[0m\u001b[0m\n\u001b[0m\u001b[1;32m     84\u001b[0m \u001b[0;34m\u001b[0m\u001b[0m\n\u001b[1;32m     85\u001b[0m \u001b[0;34m\u001b[0m\u001b[0m\n",
            "\u001b[0;32m/usr/local/lib/python3.7/dist-packages/pandas/core/generic.py\u001b[0m in \u001b[0;36m__array__\u001b[0;34m(self, dtype)\u001b[0m\n\u001b[1;32m   1779\u001b[0m \u001b[0;34m\u001b[0m\u001b[0m\n\u001b[1;32m   1780\u001b[0m     \u001b[0;32mdef\u001b[0m \u001b[0m__array__\u001b[0m\u001b[0;34m(\u001b[0m\u001b[0mself\u001b[0m\u001b[0;34m,\u001b[0m \u001b[0mdtype\u001b[0m\u001b[0;34m=\u001b[0m\u001b[0;32mNone\u001b[0m\u001b[0;34m)\u001b[0m \u001b[0;34m->\u001b[0m \u001b[0mnp\u001b[0m\u001b[0;34m.\u001b[0m\u001b[0mndarray\u001b[0m\u001b[0;34m:\u001b[0m\u001b[0;34m\u001b[0m\u001b[0;34m\u001b[0m\u001b[0m\n\u001b[0;32m-> 1781\u001b[0;31m         \u001b[0;32mreturn\u001b[0m \u001b[0mnp\u001b[0m\u001b[0;34m.\u001b[0m\u001b[0masarray\u001b[0m\u001b[0;34m(\u001b[0m\u001b[0mself\u001b[0m\u001b[0;34m.\u001b[0m\u001b[0m_values\u001b[0m\u001b[0;34m,\u001b[0m \u001b[0mdtype\u001b[0m\u001b[0;34m=\u001b[0m\u001b[0mdtype\u001b[0m\u001b[0;34m)\u001b[0m\u001b[0;34m\u001b[0m\u001b[0;34m\u001b[0m\u001b[0m\n\u001b[0m\u001b[1;32m   1782\u001b[0m \u001b[0;34m\u001b[0m\u001b[0m\n\u001b[1;32m   1783\u001b[0m     \u001b[0;32mdef\u001b[0m \u001b[0m__array_wrap__\u001b[0m\u001b[0;34m(\u001b[0m\u001b[0mself\u001b[0m\u001b[0;34m,\u001b[0m \u001b[0mresult\u001b[0m\u001b[0;34m,\u001b[0m \u001b[0mcontext\u001b[0m\u001b[0;34m=\u001b[0m\u001b[0;32mNone\u001b[0m\u001b[0;34m)\u001b[0m\u001b[0;34m:\u001b[0m\u001b[0;34m\u001b[0m\u001b[0;34m\u001b[0m\u001b[0m\n",
            "\u001b[0;32m/usr/local/lib/python3.7/dist-packages/numpy/core/_asarray.py\u001b[0m in \u001b[0;36masarray\u001b[0;34m(a, dtype, order)\u001b[0m\n\u001b[1;32m     81\u001b[0m \u001b[0;34m\u001b[0m\u001b[0m\n\u001b[1;32m     82\u001b[0m     \"\"\"\n\u001b[0;32m---> 83\u001b[0;31m     \u001b[0;32mreturn\u001b[0m \u001b[0marray\u001b[0m\u001b[0;34m(\u001b[0m\u001b[0ma\u001b[0m\u001b[0;34m,\u001b[0m \u001b[0mdtype\u001b[0m\u001b[0;34m,\u001b[0m \u001b[0mcopy\u001b[0m\u001b[0;34m=\u001b[0m\u001b[0;32mFalse\u001b[0m\u001b[0;34m,\u001b[0m \u001b[0morder\u001b[0m\u001b[0;34m=\u001b[0m\u001b[0morder\u001b[0m\u001b[0;34m)\u001b[0m\u001b[0;34m\u001b[0m\u001b[0;34m\u001b[0m\u001b[0m\n\u001b[0m\u001b[1;32m     84\u001b[0m \u001b[0;34m\u001b[0m\u001b[0m\n\u001b[1;32m     85\u001b[0m \u001b[0;34m\u001b[0m\u001b[0m\n",
            "\u001b[0;31mValueError\u001b[0m: could not convert string to float: 'Dona.'"
          ]
        }
      ]
    },
    {
      "cell_type": "code",
      "metadata": {
        "id": "cI6Uvr1iKUOh"
      },
      "source": [
        "from sklearn.metrics import accuracy_score\n",
        "accuracy_score(y_pred, )"
      ],
      "execution_count": null,
      "outputs": []
    },
    {
      "cell_type": "code",
      "metadata": {
        "id": "6rsu3ZuuLTDD"
      },
      "source": [
        "test2 = pd.read_csv('test.csv')\n",
        "test2"
      ],
      "execution_count": null,
      "outputs": []
    }
  ]
}